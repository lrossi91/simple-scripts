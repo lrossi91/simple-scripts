{
 "cells": [
  {
   "cell_type": "markdown",
   "metadata": {},
   "source": [
    "Importing necessary packages and the data"
   ]
  },
  {
   "cell_type": "code",
   "execution_count": 102,
   "metadata": {
    "collapsed": false
   },
   "outputs": [],
   "source": [
    "import pandas as pd\n",
    "import numpy as np\n",
    "import math\n",
    "from sklearn.ensemble import RandomForestClassifier\n",
    "from sklearn.metrics import roc_auc_score\n",
    "from sklearn.cross_validation import KFold\n",
    "from sklearn import preprocessing\n",
    "from sklearn.metrics import accuracy_score\n",
    "\n",
    "loan = pd.read_csv('loan.csv', low_memory=False)"
   ]
  },
  {
   "cell_type": "markdown",
   "metadata": {},
   "source": [
    "Let's include only the loans classified as 'Fully Paid', 'Default', or 'Charged Off'"
   ]
  },
  {
   "cell_type": "code",
   "execution_count": 103,
   "metadata": {
    "collapsed": true
   },
   "outputs": [],
   "source": [
    "ended_loans = loan[(loan['loan_status'] == 'Fully Paid') | (loan['loan_status'] == 'Charged Off') | (loan['loan_status'] == 'Default')]"
   ]
  },
  {
   "cell_type": "code",
   "execution_count": 104,
   "metadata": {
    "collapsed": false
   },
   "outputs": [
    {
     "name": "stderr",
     "output_type": "stream",
     "text": [
      "c:\\python34\\lib\\site-packages\\ipykernel\\__main__.py:1: SettingWithCopyWarning: \n",
      "A value is trying to be set on a copy of a slice from a DataFrame.\n",
      "Try using .loc[row_indexer,col_indexer] = value instead\n",
      "\n",
      "See the the caveats in the documentation: http://pandas.pydata.org/pandas-docs/stable/indexing.html#indexing-view-versus-copy\n",
      "  if __name__ == '__main__':\n"
     ]
    }
   ],
   "source": [
    "ended_loans['TARGET'] = ended_loans['loan_status'].apply(lambda x: 0 if x == 'Fully Paid' else 1)\n",
    "ended_loans = ended_loans.fillna(-99999)"
   ]
  },
  {
   "cell_type": "markdown",
   "metadata": {},
   "source": [
    "Now that we created the TARGET variable with integers, we can drop the loan_status variable"
   ]
  },
  {
   "cell_type": "code",
   "execution_count": 105,
   "metadata": {
    "collapsed": false
   },
   "outputs": [],
   "source": [
    "ended_loans.drop('loan_status', axis=1, inplace=True)"
   ]
  },
  {
   "cell_type": "markdown",
   "metadata": {},
   "source": [
    "let's split the dataset into test and train by random permutation"
   ]
  },
  {
   "cell_type": "code",
   "execution_count": 106,
   "metadata": {
    "collapsed": false
   },
   "outputs": [],
   "source": [
    "np.random.seed(1)\n",
    "ended_loans = ended_loans.reindex(np.random.permutation(ended_loans.index))\n",
    "max_row = math.floor(ended_loans.shape[0]*0.8)\n",
    "train = ended_loans.iloc[:max_row]\n",
    "train_test = ended_loans.iloc[max_row:]"
   ]
  },
  {
   "cell_type": "code",
   "execution_count": 107,
   "metadata": {
    "collapsed": false
   },
   "outputs": [],
   "source": [
    "predictors = train.columns[:-1]"
   ]
  },
  {
   "cell_type": "markdown",
   "metadata": {},
   "source": [
    "The first line only includes variables that are not 'objects'\n",
    "then I eliminated the first two columns because they are ids and they may disrupt the accuracy of the classifier"
   ]
  },
  {
   "cell_type": "code",
   "execution_count": 108,
   "metadata": {
    "collapsed": false
   },
   "outputs": [
    {
     "name": "stdout",
     "output_type": "stream",
     "text": [
      "        loan_amnt  funded_amnt  funded_amnt_inv  int_rate  installment  \\\n",
      "851750       8000         8000             8000      8.67       253.18   \n",
      "206064      20000        20000            20000     14.33       686.77   \n",
      "162015       9000         9000             8975     12.12       299.45   \n",
      "188743      27150        27150            27150     10.16       579.00   \n",
      "641852       8500         8500             8500      7.26       263.47   \n",
      "\n",
      "        annual_inc    dti  delinq_2yrs  inq_last_6mths  \\\n",
      "851750       41000  29.19            0               0   \n",
      "206064       98000  22.14            0               0   \n",
      "162015       72000   9.80            0               0   \n",
      "188743       85000   9.85            0               0   \n",
      "641852       60000   4.66            2               1   \n",
      "\n",
      "        mths_since_last_delinq      ...       total_bal_il  il_util  \\\n",
      "851750                  -99999      ...             -99999   -99999   \n",
      "206064                  -99999      ...             -99999   -99999   \n",
      "162015                      29      ...             -99999   -99999   \n",
      "188743                  -99999      ...             -99999   -99999   \n",
      "641852                      16      ...             -99999   -99999   \n",
      "\n",
      "        open_rv_12m  open_rv_24m  max_bal_bc  all_util  total_rev_hi_lim  \\\n",
      "851750       -99999       -99999      -99999    -99999             31600   \n",
      "206064       -99999       -99999      -99999    -99999            -99999   \n",
      "162015       -99999       -99999      -99999    -99999             10300   \n",
      "188743       -99999       -99999      -99999    -99999             54500   \n",
      "641852       -99999       -99999      -99999    -99999             25500   \n",
      "\n",
      "        inq_fi  total_cu_tl  inq_last_12m  \n",
      "851750  -99999       -99999        -99999  \n",
      "206064  -99999       -99999        -99999  \n",
      "162015  -99999       -99999        -99999  \n",
      "188743  -99999       -99999        -99999  \n",
      "641852  -99999       -99999        -99999  \n",
      "\n",
      "[5 rows x 49 columns]\n"
     ]
    }
   ],
   "source": [
    "num_var_train = list(train.dtypes[train.dtypes !='object'].index)\n",
    "num_var_train = num_var_train[2:]\n",
    "num_var_train = num_var_train[:-1]\n",
    "print(train[num_var_train].head())"
   ]
  },
  {
   "cell_type": "code",
   "execution_count": 109,
   "metadata": {
    "collapsed": false
   },
   "outputs": [
    {
     "name": "stdout",
     "output_type": "stream",
     "text": [
      "The roc_auc score is 0.986149489366\n"
     ]
    }
   ],
   "source": [
    "clf = RandomForestClassifier(n_estimators=100, max_depth=5)\n",
    "clf.fit(train[num_var_train], train['TARGET'])\n",
    "predictions = clf.predict(train_test[num_var_train])\n",
    "\n",
    "error_test = roc_auc_score(predictions, train_test['TARGET'])\n",
    "print(\"The roc_auc score is\", error_test)"
   ]
  },
  {
   "cell_type": "code",
   "execution_count": 110,
   "metadata": {
    "collapsed": false
   },
   "outputs": [
    {
     "name": "stdout",
     "output_type": "stream",
     "text": [
      "the accuracy is 0.977005389669\n"
     ]
    }
   ],
   "source": [
    "y_pred = predictions\n",
    "y_true = train_test['TARGET']\n",
    "accuracy = accuracy_score(y_true, y_pred)\n",
    "print('the accuracy is', accuracy)"
   ]
  },
  {
   "cell_type": "code",
   "execution_count": 111,
   "metadata": {
    "collapsed": false
   },
   "outputs": [
    {
     "name": "stdout",
     "output_type": "stream",
     "text": [
      "[  3.10025106e-02   3.31081281e-02   2.63498612e-02   1.09621081e-02\n",
      "   2.47063527e-02   6.73426846e-04   2.21622232e-03   2.71596277e-06\n",
      "   1.50734690e-04   2.16961768e-05   7.78094527e-05   3.68371754e-05\n",
      "   7.26325776e-05   8.47668933e-04   6.19824240e-04   1.80233191e-04\n",
      "   4.10751001e-03   4.82510078e-03   6.91980588e-02   4.72254453e-02\n",
      "   1.72871763e-01   8.62579855e-03   6.44143984e-03   2.23097716e-01\n",
      "   1.50477643e-01   1.59272570e-01   2.76335521e-07   1.93555445e-04\n",
      "   0.00000000e+00   0.00000000e+00   0.00000000e+00   4.39030986e-07\n",
      "   3.48380822e-03   1.09325715e-02   5.13338557e-06   4.49522000e-06\n",
      "   3.74469036e-06   0.00000000e+00   2.18420366e-06   9.26469202e-06\n",
      "   0.00000000e+00   3.63971740e-07   3.85394544e-06   5.38822905e-06\n",
      "   8.56740695e-06   8.16734949e-03   3.51597543e-06   2.38758082e-06\n",
      "   1.29379715e-06]\n"
     ]
    }
   ],
   "source": [
    "importances = clf.feature_importances_\n",
    "print(importances)"
   ]
  },
  {
   "cell_type": "code",
   "execution_count": 115,
   "metadata": {
    "collapsed": false
   },
   "outputs": [
    {
     "name": "stdout",
     "output_type": "stream",
     "text": [
      "     Importances                    Variables\n",
      "23  2.230977e-01                   recoveries\n",
      "20  1.728718e-01              total_rec_prncp\n",
      "25  1.592726e-01              last_pymnt_amnt\n",
      "24  1.504776e-01      collection_recovery_fee\n",
      "18  6.919806e-02                  total_pymnt\n",
      "19  4.722545e-02              total_pymnt_inv\n",
      "1   3.310813e-02                  funded_amnt\n",
      "0   3.100251e-02                    loan_amnt\n",
      "2   2.634986e-02              funded_amnt_inv\n",
      "4   2.470635e-02                  installment\n",
      "3   1.096211e-02                     int_rate\n",
      "33  1.093257e-02                  tot_cur_bal\n",
      "21  8.625799e-03                total_rec_int\n",
      "45  8.167349e-03             total_rev_hi_lim\n",
      "22  6.441440e-03           total_rec_late_fee\n",
      "17  4.825101e-03                out_prncp_inv\n",
      "16  4.107510e-03                    out_prncp\n",
      "32  3.483808e-03                 tot_coll_amt\n",
      "6   2.216222e-03                          dti\n",
      "13  8.476689e-04                    revol_bal\n",
      "5   6.734268e-04                   annual_inc\n",
      "14  6.198242e-04                   revol_util\n",
      "27  1.935554e-04  mths_since_last_major_derog\n",
      "15  1.802332e-04                    total_acc\n",
      "8   1.507347e-04               inq_last_6mths\n",
      "10  7.780945e-05       mths_since_last_record\n",
      "12  7.263258e-05                      pub_rec\n",
      "11  3.683718e-05                     open_acc\n",
      "9   2.169618e-05       mths_since_last_delinq\n",
      "39  9.264692e-06                 total_bal_il\n",
      "44  8.567407e-06                     all_util\n",
      "43  5.388229e-06                   max_bal_bc\n",
      "34  5.133386e-06                  open_acc_6m\n",
      "35  4.495220e-06                   open_il_6m\n",
      "42  3.853945e-06                  open_rv_24m\n",
      "36  3.744690e-06                  open_il_12m\n",
      "46  3.515975e-06                       inq_fi\n",
      "7   2.715963e-06                  delinq_2yrs\n",
      "47  2.387581e-06                  total_cu_tl\n",
      "38  2.184204e-06           mths_since_rcnt_il\n",
      "48  1.293797e-06                 inq_last_12m\n",
      "31  4.390310e-07               acc_now_delinq\n",
      "41  3.639717e-07                  open_rv_12m\n",
      "26  2.763355e-07   collections_12_mths_ex_med\n",
      "40  0.000000e+00                      il_util\n",
      "37  0.000000e+00                  open_il_24m\n",
      "30  0.000000e+00                    dti_joint\n",
      "29  0.000000e+00             annual_inc_joint\n",
      "28  0.000000e+00                  policy_code\n"
     ]
    }
   ],
   "source": [
    "df_importances = pd.DataFrame({\n",
    "        'Variables': num_var_train,\n",
    "        'Importances': importances\n",
    "    })\n",
    "df_importances = df_importances.sort(['Importances'], ascending=False)\n",
    "print(df_importances)"
   ]
  },
  {
   "cell_type": "code",
   "execution_count": 113,
   "metadata": {
    "collapsed": false
   },
   "outputs": [],
   "source": [
    "import matplotlib.pyplot as plt\n",
    "\n"
   ]
  },
  {
   "cell_type": "code",
   "execution_count": null,
   "metadata": {
    "collapsed": true
   },
   "outputs": [],
   "source": []
  }
 ],
 "metadata": {
  "kernelspec": {
   "display_name": "Python 3",
   "language": "python",
   "name": "python3"
  },
  "language_info": {
   "codemirror_mode": {
    "name": "ipython",
    "version": 3
   },
   "file_extension": ".py",
   "mimetype": "text/x-python",
   "name": "python",
   "nbconvert_exporter": "python",
   "pygments_lexer": "ipython3",
   "version": "3.4.3"
  }
 },
 "nbformat": 4,
 "nbformat_minor": 0
}
